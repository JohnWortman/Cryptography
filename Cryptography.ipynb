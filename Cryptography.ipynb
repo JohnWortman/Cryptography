{
 "cells": [
  {
   "cell_type": "markdown",
   "metadata": {},
   "source": [
    "<h1><center>Example of RSA encryption using the python cryptography module</center></h1>"
   ]
  },
  {
   "cell_type": "code",
   "execution_count": 151,
   "metadata": {},
   "outputs": [],
   "source": [
    "from cryptography.hazmat.backends import default_backend\n",
    "from cryptography.hazmat.primitives.asymmetric import rsa\n",
    "from cryptography.hazmat.primitives import serialization\n",
    "from cryptography.hazmat.primitives.serialization import load_pem_private_key\n",
    "\n",
    "def gen_keys():\n",
    "    private_key = rsa.generate_private_key(\n",
    "        public_exponent=65537, \n",
    "        key_size=2048, \n",
    "        backend=default_backend()\n",
    "    )\n",
    "    public_key = private_key.public_key()\n",
    "    return private_key, public_key\n",
    "\n",
    "\n",
    "def save_key(pk, filename):\n",
    "    pem = pk.private_bytes(\n",
    "        encoding=serialization.Encoding.PEM,\n",
    "        format=serialization.PrivateFormat.TraditionalOpenSSL,\n",
    "        encryption_algorithm=serialization.NoEncryption()\n",
    "    )\n",
    "    with open(filename, 'wb') as pem_out:\n",
    "        pem_out.write(pem)\n",
    "        \n",
    "def save_pub_key(pk, filename1):\n",
    "    pem = pk.public_bytes(\n",
    "    encoding=serialization.Encoding.PEM,\n",
    "    format=serialization.PublicFormat.SubjectPublicKeyInfo\n",
    "    )\n",
    "    with open(filename1, 'wb') as pem_out:\n",
    "        pem_out.write(pem)\n",
    "\n",
    "def load_key(filename):\n",
    "    with open(filename, 'rb') as pem_in:\n",
    "        pemlines = pem_in.read()\n",
    "    private_key = load_pem_private_key(pemlines, None, default_backend())\n",
    "    return private_key\n",
    "\n",
    "\n",
    "if __name__ == '__main__':\n",
    "    pk = gen_key()\n",
    "    filename = 'privkey.pem'\n",
    "    save_key(pk, filename)\n",
    "    pk2 = load_key(filename)"
   ]
  },
  {
   "cell_type": "code",
   "execution_count": 152,
   "metadata": {},
   "outputs": [
    {
     "data": {
      "text/plain": [
       "(<cryptography.hazmat.backends.openssl.rsa._RSAPrivateKey at 0x2145ad79e88>,\n",
       " <cryptography.hazmat.backends.openssl.rsa._RSAPublicKey at 0x2145ad79d08>)"
      ]
     },
     "execution_count": 152,
     "metadata": {},
     "output_type": "execute_result"
    }
   ],
   "source": [
    "filename = r'C:\\Users\\User\\Desktop\\Private Key.txt'\n",
    "filename1 = r'C:\\Users\\User\\Desktop\\Public Key.txt'\n",
    "\n",
    "prik, pubk = gen_keys()\n",
    "save_key(prik, filename)\n",
    "save_pub_key(pubk, filename1)\n",
    "\n",
    "prik, pubk"
   ]
  },
  {
   "cell_type": "code",
   "execution_count": 153,
   "metadata": {},
   "outputs": [
    {
     "data": {
      "text/plain": [
       "<cryptography.hazmat.backends.openssl.rsa._RSAPrivateKey at 0x2145ad79848>"
      ]
     },
     "execution_count": 153,
     "metadata": {},
     "output_type": "execute_result"
    }
   ],
   "source": [
    "load_key(filename)"
   ]
  },
  {
   "cell_type": "code",
   "execution_count": 154,
   "metadata": {},
   "outputs": [],
   "source": [
    "message = b\"encrypted data\""
   ]
  },
  {
   "cell_type": "code",
   "execution_count": 155,
   "metadata": {},
   "outputs": [
    {
     "data": {
      "text/plain": [
       "b'\\x1eS\\xd4\\xd2\\xa7zZ9\\xf0\\x83\\xc2g\\xc6jC\\x85\\xa9k,\\x99\\x90\\x05\\xa5\\x19\\xa5\\xd0\\xdf\\x91\\xa9|\\xb9\\xf6\\x9d\\x9d\\'\\r\\xd3\\xa2\\x96p\\x05F\\xfc!\\xdc\\xfc-\\x10\\xb9G\\x1c\\xab;\\x16cD0]\\xb3\\xb3\\x94J#=2\\x1b\\x99+SH(\\x10dk\\xa4\\x9c*\\x97\\xf1\\xa2\\x8e6\\x9c4\\x932!\\xb2}+\\x03\\x9b\\x15\"\\x9b\\x86\\xd6\\xb3\\x90\\xd3-\\xd0\\x1d\\xc56\\x95B\\xf60\\x11\\xc1\\xa9\\x90\\x9a\\xf9J\\x82\\xa4\\xd8\\x9a\\xef\\xf8.mWU\\xc5 \\xe3,\\x9a;\\xd9vy\\xb8\\x95,\\x13v\\xd5\\x99\\xf4\\xa9\\xf7\\xf5,\\x8b\\xd6\\x04\\xd4\\xdf\\x19g\\xf6\\xf8\\x1c\\xfd\\x1a\\x12\\xc5\\xba*&ZV\\xec\\xdf\\xf3\\xf8~F\\xd5\\x0c\\xb5\\xc7\\xb0\\xe0\\xe8I_\\xf0\\xf3J\\x16\\xe3\\x8cM\\r\\x9e\\xb9gD\\x81\\xf1-\\xb4\\x8b@\"\\x10\\xb5=t\\xff\\xe5\\x97\\x06 \\xac\\x1f\\xb4\\x0c\\x8d\\xe2\\x95NSs\\x17\\x9d&|\\x1eji:a\\x041r\\xca\\xa6\\x0e\\x1a\\xf7\\xc8\\xa5\\xbb\\xf9\\xf3\\xdf\\x02t^\\x0fC\\xdeaMjU\\xa5R\\xdf\\xca'"
      ]
     },
     "execution_count": 155,
     "metadata": {},
     "output_type": "execute_result"
    }
   ],
   "source": [
    "#RSA encryption with the public key\n",
    "from cryptography.hazmat.primitives import hashes\n",
    "from cryptography.hazmat.primitives.asymmetric import padding\n",
    "\n",
    "ciphertext = pubk.encrypt(\n",
    "     message,\n",
    "     padding.OAEP(\n",
    "         mgf=padding.MGF1(algorithm=hashes.SHA256()),\n",
    "         algorithm=hashes.SHA256(),\n",
    "         label=None\n",
    "     )\n",
    " )\n",
    "\n",
    "#display scrambled message\n",
    "ciphertext"
   ]
  },
  {
   "cell_type": "code",
   "execution_count": 156,
   "metadata": {},
   "outputs": [
    {
     "data": {
      "text/plain": [
       "b'encrypted data'"
      ]
     },
     "execution_count": 156,
     "metadata": {},
     "output_type": "execute_result"
    }
   ],
   "source": [
    "#decryption with the private key\n",
    "plaintext = prik.decrypt(\n",
    "     ciphertext,\n",
    "     padding.OAEP(\n",
    "         mgf=padding.MGF1(algorithm=hashes.SHA256()),\n",
    "         algorithm=hashes.SHA256(),\n",
    "         label=None\n",
    "     )\n",
    ")\n",
    "plaintext == message\n",
    "plaintext"
   ]
  },
  {
   "cell_type": "code",
   "execution_count": 157,
   "metadata": {},
   "outputs": [],
   "source": [
    "#saving my message to a txt file\n",
    "with open('Cipher.txt', 'wb') as ct:\n",
    "    ct.write(ciphertext)"
   ]
  },
  {
   "cell_type": "code",
   "execution_count": 158,
   "metadata": {},
   "outputs": [
    {
     "name": "stdout",
     "output_type": "stream",
     "text": [
      "b'\\x1eS\\xd4\\xd2\\xa7zZ9\\xf0\\x83\\xc2g\\xc6jC\\x85\\xa9k,\\x99\\x90\\x05\\xa5\\x19\\xa5\\xd0\\xdf\\x91\\xa9|\\xb9\\xf6\\x9d\\x9d\\'\\r\\xd3\\xa2\\x96p\\x05F\\xfc!\\xdc\\xfc-\\x10\\xb9G\\x1c\\xab;\\x16cD0]\\xb3\\xb3\\x94J#=2\\x1b\\x99+SH(\\x10dk\\xa4\\x9c*\\x97\\xf1\\xa2\\x8e6\\x9c4\\x932!\\xb2}+\\x03\\x9b\\x15\"\\x9b\\x86\\xd6\\xb3\\x90\\xd3-\\xd0\\x1d\\xc56\\x95B\\xf60\\x11\\xc1\\xa9\\x90\\x9a\\xf9J\\x82\\xa4\\xd8\\x9a\\xef\\xf8.mWU\\xc5 \\xe3,\\x9a;\\xd9vy\\xb8\\x95,\\x13v\\xd5\\x99\\xf4\\xa9\\xf7\\xf5,\\x8b\\xd6\\x04\\xd4\\xdf\\x19g\\xf6\\xf8\\x1c\\xfd\\x1a\\x12\\xc5\\xba*&ZV\\xec\\xdf\\xf3\\xf8~F\\xd5\\x0c\\xb5\\xc7\\xb0\\xe0\\xe8I_\\xf0\\xf3J\\x16\\xe3\\x8cM\\r\\x9e\\xb9gD\\x81\\xf1-\\xb4\\x8b@\"\\x10\\xb5=t\\xff\\xe5\\x97\\x06 \\xac\\x1f\\xb4\\x0c\\x8d\\xe2\\x95NSs\\x17\\x9d&|\\x1eji:a\\x041r\\xca\\xa6\\x0e\\x1a\\xf7\\xc8\\xa5\\xbb\\xf9\\xf3\\xdf\\x02t^\\x0fC\\xdeaMjU\\xa5R\\xdf\\xca'\n"
     ]
    }
   ],
   "source": [
    "#reading the txt file into python\n",
    "with open('Cipher.txt', 'rb') as ct2:\n",
    "    apple = ct2.read()\n",
    "    print(apple)"
   ]
  },
  {
   "cell_type": "code",
   "execution_count": 159,
   "metadata": {},
   "outputs": [
    {
     "data": {
      "text/plain": [
       "b'encrypted data'"
      ]
     },
     "execution_count": 159,
     "metadata": {},
     "output_type": "execute_result"
    }
   ],
   "source": [
    "#decryption with the private key\n",
    "prik.decrypt(\n",
    "     apple,\n",
    "     padding.OAEP(\n",
    "         mgf=padding.MGF1(algorithm=hashes.SHA256()),\n",
    "         algorithm=hashes.SHA256(),\n",
    "         label=None\n",
    "     )\n",
    ")"
   ]
  },
  {
   "cell_type": "code",
   "execution_count": null,
   "metadata": {},
   "outputs": [],
   "source": []
  }
 ],
 "metadata": {
  "kernelspec": {
   "display_name": "Python 3",
   "language": "python",
   "name": "python3"
  },
  "language_info": {
   "codemirror_mode": {
    "name": "ipython",
    "version": 3
   },
   "file_extension": ".py",
   "mimetype": "text/x-python",
   "name": "python",
   "nbconvert_exporter": "python",
   "pygments_lexer": "ipython3",
   "version": "3.7.6"
  }
 },
 "nbformat": 4,
 "nbformat_minor": 4
}
